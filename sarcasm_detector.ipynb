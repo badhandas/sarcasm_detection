{
 "cells": [
  {
   "cell_type": "code",
   "execution_count": null,
   "id": "b2749e32",
   "metadata": {},
   "outputs": [],
   "source": []
  },
  {
   "cell_type": "code",
   "execution_count": 35,
   "id": "c4e233ad",
   "metadata": {},
   "outputs": [],
   "source": [
    "import json\n",
    "import tensorflow as tf\n",
    "\n",
    "from tensorflow.keras.preprocessing.text import Tokenizer\n",
    "from tensorflow.keras.preprocessing.sequence import pad_sequences"
   ]
  },
  {
   "cell_type": "code",
   "execution_count": 36,
   "id": "8a92d185",
   "metadata": {},
   "outputs": [],
   "source": [
    "vocab_size = 10000\n",
    "embedding_dim = 16\n",
    "max_length = 100\n",
    "trunc_type='post'\n",
    "padding_type='post'\n",
    "oov_tok = \"<OOV>\"\n",
    "training_size = 20000"
   ]
  },
  {
   "cell_type": "code",
   "execution_count": 37,
   "id": "8f474253",
   "metadata": {},
   "outputs": [],
   "source": [
    "with open('sarcasm.json','r') as f:\n",
    "    datastore = json.load(f)"
   ]
  },
  {
   "cell_type": "code",
   "execution_count": 38,
   "id": "3da9ad85",
   "metadata": {},
   "outputs": [],
   "source": [
    "sentences = []\n",
    "labels =[]\n",
    "urls = []\n",
    "for item in datastore:\n",
    "    sentences.append(item['headline'])\n",
    "    labels.append(item['is_sarcastic'])\n",
    "    urls.append(item['article_link'])"
   ]
  },
  {
   "cell_type": "code",
   "execution_count": 39,
   "id": "52df3e90",
   "metadata": {},
   "outputs": [],
   "source": [
    "training_sentences = sentences[0:training_size]\n",
    "testing_sentences = sentences[training_size:]\n",
    "training_labels = labels[0:training_size]\n",
    "testing_labels = labels[training_size:]"
   ]
  },
  {
   "cell_type": "code",
   "execution_count": 40,
   "id": "aaf25f02",
   "metadata": {},
   "outputs": [],
   "source": [
    "tokenizer = Tokenizer(num_words=vocab_size, oov_token=oov_tok)"
   ]
  },
  {
   "cell_type": "code",
   "execution_count": 41,
   "id": "e640bbd1",
   "metadata": {},
   "outputs": [],
   "source": [
    "#Only tokenize training sentences\n",
    "tokenizer.fit_on_texts(training_sentences)\n",
    "word_index = tokenizer.word_index\n",
    "training_sequences = tokenizer.texts_to_sequences(training_sentences)\n",
    "training_padded = pad_sequences(training_sequences, maxlen=max_length, padding=padding_type, truncating=trunc_type)"
   ]
  },
  {
   "cell_type": "code",
   "execution_count": 42,
   "id": "024eda9a",
   "metadata": {},
   "outputs": [],
   "source": [
    "testing_sequences = tokenizer.texts_to_sequences(testing_sentences)\n",
    "testing_padded = pad_sequences(testing_sequences, maxlen=max_length, padding=padding_type, truncating=trunc_type)"
   ]
  },
  {
   "cell_type": "code",
   "execution_count": 43,
   "id": "a207fcc5",
   "metadata": {},
   "outputs": [],
   "source": [
    "import numpy as np\n",
    "training_padded = np.array(training_padded)\n",
    "training_labels = np.array(training_labels)\n",
    "testing_padded = np.array(testing_padded)\n",
    "testing_labels = np.array(testing_labels)"
   ]
  },
  {
   "cell_type": "code",
   "execution_count": 59,
   "id": "49b336be",
   "metadata": {},
   "outputs": [],
   "source": [
    "model = tf.keras.Sequential([\n",
    "    tf.keras.layers.Embedding(vocab_size, embedding_dim, input_length=max_length),\n",
    "    tf.keras.layers.Dropout(0.4),\n",
    "    tf.keras.layers.GlobalAveragePooling1D(),\n",
    "    tf.keras.layers.Dropout(0.2),\n",
    "    #tf.keras.layers.Dense(24, activation='relu'),\n",
    "    tf.keras.layers.Dense(1, activation='sigmoid')\n",
    "])\n",
    "model.compile(loss='binary_crossentropy',optimizer='adam',metrics=['accuracy'])"
   ]
  },
  {
   "cell_type": "code",
   "execution_count": 60,
   "id": "0ef519df",
   "metadata": {},
   "outputs": [
    {
     "name": "stdout",
     "output_type": "stream",
     "text": [
      "Model: \"sequential_5\"\n",
      "_________________________________________________________________\n",
      " Layer (type)                Output Shape              Param #   \n",
      "=================================================================\n",
      " embedding_6 (Embedding)     (None, 100, 16)           160000    \n",
      "                                                                 \n",
      " dropout_4 (Dropout)         (None, 100, 16)           0         \n",
      "                                                                 \n",
      " global_average_pooling1d_5   (None, 16)               0         \n",
      " (GlobalAveragePooling1D)                                        \n",
      "                                                                 \n",
      " dropout_5 (Dropout)         (None, 16)                0         \n",
      "                                                                 \n",
      " dense_10 (Dense)            (None, 1)                 17        \n",
      "                                                                 \n",
      "=================================================================\n",
      "Total params: 160,017\n",
      "Trainable params: 160,017\n",
      "Non-trainable params: 0\n",
      "_________________________________________________________________\n"
     ]
    }
   ],
   "source": [
    "model.summary()"
   ]
  },
  {
   "cell_type": "code",
   "execution_count": 61,
   "id": "2e9a7151",
   "metadata": {},
   "outputs": [
    {
     "name": "stdout",
     "output_type": "stream",
     "text": [
      "Epoch 1/30\n",
      "625/625 - 2s - loss: 0.6812 - accuracy: 0.5591 - val_loss: 0.6716 - val_accuracy: 0.5633 - 2s/epoch - 4ms/step\n",
      "Epoch 2/30\n",
      "625/625 - 2s - loss: 0.6527 - accuracy: 0.5861 - val_loss: 0.6300 - val_accuracy: 0.6788 - 2s/epoch - 3ms/step\n",
      "Epoch 3/30\n",
      "625/625 - 4s - loss: 0.5951 - accuracy: 0.7343 - val_loss: 0.5677 - val_accuracy: 0.7869 - 4s/epoch - 7ms/step\n",
      "Epoch 4/30\n",
      "625/625 - 2s - loss: 0.5281 - accuracy: 0.8117 - val_loss: 0.5115 - val_accuracy: 0.8188 - 2s/epoch - 3ms/step\n",
      "Epoch 5/30\n",
      "625/625 - 2s - loss: 0.4725 - accuracy: 0.8361 - val_loss: 0.4703 - val_accuracy: 0.8235 - 2s/epoch - 2ms/step\n",
      "Epoch 6/30\n",
      "625/625 - 2s - loss: 0.4306 - accuracy: 0.8470 - val_loss: 0.4379 - val_accuracy: 0.8310 - 2s/epoch - 3ms/step\n",
      "Epoch 7/30\n",
      "625/625 - 4s - loss: 0.3978 - accuracy: 0.8587 - val_loss: 0.4149 - val_accuracy: 0.8366 - 4s/epoch - 7ms/step\n",
      "Epoch 8/30\n",
      "625/625 - 4s - loss: 0.3715 - accuracy: 0.8664 - val_loss: 0.3982 - val_accuracy: 0.8402 - 4s/epoch - 7ms/step\n",
      "Epoch 9/30\n",
      "625/625 - 2s - loss: 0.3515 - accuracy: 0.8719 - val_loss: 0.3848 - val_accuracy: 0.8462 - 2s/epoch - 3ms/step\n",
      "Epoch 10/30\n",
      "625/625 - 2s - loss: 0.3333 - accuracy: 0.8794 - val_loss: 0.3766 - val_accuracy: 0.8447 - 2s/epoch - 2ms/step\n",
      "Epoch 11/30\n",
      "625/625 - 2s - loss: 0.3176 - accuracy: 0.8838 - val_loss: 0.3665 - val_accuracy: 0.8490 - 2s/epoch - 2ms/step\n",
      "Epoch 12/30\n",
      "625/625 - 2s - loss: 0.3019 - accuracy: 0.8878 - val_loss: 0.3593 - val_accuracy: 0.8523 - 2s/epoch - 3ms/step\n",
      "Epoch 13/30\n",
      "625/625 - 2s - loss: 0.2897 - accuracy: 0.8905 - val_loss: 0.3600 - val_accuracy: 0.8445 - 2s/epoch - 3ms/step\n",
      "Epoch 14/30\n",
      "625/625 - 2s - loss: 0.2787 - accuracy: 0.8965 - val_loss: 0.3505 - val_accuracy: 0.8563 - 2s/epoch - 3ms/step\n",
      "Epoch 15/30\n",
      "625/625 - 2s - loss: 0.2675 - accuracy: 0.9000 - val_loss: 0.3459 - val_accuracy: 0.8578 - 2s/epoch - 3ms/step\n",
      "Epoch 16/30\n",
      "625/625 - 2s - loss: 0.2573 - accuracy: 0.9036 - val_loss: 0.3438 - val_accuracy: 0.8547 - 2s/epoch - 3ms/step\n",
      "Epoch 17/30\n",
      "625/625 - 2s - loss: 0.2476 - accuracy: 0.9079 - val_loss: 0.3430 - val_accuracy: 0.8572 - 2s/epoch - 2ms/step\n",
      "Epoch 18/30\n",
      "625/625 - 2s - loss: 0.2398 - accuracy: 0.9104 - val_loss: 0.3403 - val_accuracy: 0.8545 - 2s/epoch - 3ms/step\n",
      "Epoch 19/30\n",
      "625/625 - 2s - loss: 0.2314 - accuracy: 0.9145 - val_loss: 0.3393 - val_accuracy: 0.8581 - 2s/epoch - 3ms/step\n",
      "Epoch 20/30\n",
      "625/625 - 2s - loss: 0.2260 - accuracy: 0.9165 - val_loss: 0.3426 - val_accuracy: 0.8506 - 2s/epoch - 3ms/step\n",
      "Epoch 21/30\n",
      "625/625 - 2s - loss: 0.2162 - accuracy: 0.9204 - val_loss: 0.3441 - val_accuracy: 0.8502 - 2s/epoch - 3ms/step\n",
      "Epoch 22/30\n",
      "625/625 - 2s - loss: 0.2125 - accuracy: 0.9198 - val_loss: 0.3393 - val_accuracy: 0.8575 - 2s/epoch - 3ms/step\n",
      "Epoch 23/30\n",
      "625/625 - 2s - loss: 0.2050 - accuracy: 0.9258 - val_loss: 0.3428 - val_accuracy: 0.8521 - 2s/epoch - 3ms/step\n",
      "Epoch 24/30\n",
      "625/625 - 2s - loss: 0.2003 - accuracy: 0.9269 - val_loss: 0.3440 - val_accuracy: 0.8529 - 2s/epoch - 3ms/step\n",
      "Epoch 25/30\n",
      "625/625 - 3s - loss: 0.1943 - accuracy: 0.9288 - val_loss: 0.3443 - val_accuracy: 0.8568 - 3s/epoch - 5ms/step\n",
      "Epoch 26/30\n",
      "625/625 - 2s - loss: 0.1886 - accuracy: 0.9319 - val_loss: 0.3447 - val_accuracy: 0.8553 - 2s/epoch - 3ms/step\n",
      "Epoch 27/30\n",
      "625/625 - 2s - loss: 0.1842 - accuracy: 0.9325 - val_loss: 0.3544 - val_accuracy: 0.8512 - 2s/epoch - 3ms/step\n",
      "Epoch 28/30\n",
      "625/625 - 2s - loss: 0.1803 - accuracy: 0.9327 - val_loss: 0.3498 - val_accuracy: 0.8554 - 2s/epoch - 3ms/step\n",
      "Epoch 29/30\n",
      "625/625 - 3s - loss: 0.1752 - accuracy: 0.9350 - val_loss: 0.3513 - val_accuracy: 0.8562 - 3s/epoch - 5ms/step\n",
      "Epoch 30/30\n",
      "625/625 - 2s - loss: 0.1719 - accuracy: 0.9384 - val_loss: 0.3544 - val_accuracy: 0.8571 - 2s/epoch - 2ms/step\n"
     ]
    }
   ],
   "source": [
    "num_epochs = 30\n",
    "history = model.fit(training_padded, training_labels, epochs=num_epochs, validation_data=(testing_padded, testing_labels), verbose=2)"
   ]
  },
  {
   "cell_type": "code",
   "execution_count": 62,
   "id": "853cf2bf",
   "metadata": {},
   "outputs": [
    {
     "data": {
      "image/png": "[encoded data removed]",
      "text/plain": [
       "<Figure size 432x288 with 1 Axes>"
      ]
     },
     "metadata": {
      "needs_background": "light"
     },
     "output_type": "display_data"
    },
    {
     "data": {
      "image/png": "[encoded data removed]",
      "text/plain": [
       "<Figure size 432x288 with 1 Axes>"
      ]
     },
     "metadata": {
      "needs_background": "light"
     },
     "output_type": "display_data"
    }
   ],
   "source": [
    "import matplotlib.pyplot as plt\n",
    " \n",
    "def plot_graphs(history,string):\n",
    "    plt.plot(history.history[string])\n",
    "    plt.plot(history.history['val_'+string])\n",
    "    plt.xlabel(\"Epochs\")\n",
    "    plt.ylabel(string)\n",
    "    plt.legend([string, 'val_'+string])\n",
    "    plt.show()\n",
    "plot_graphs(history, \"accuracy\")\n",
    "plot_graphs(history, \"loss\")  "
   ]
  },
  {
   "cell_type": "code",
   "execution_count": 108,
   "id": "56a383ae",
   "metadata": {},
   "outputs": [],
   "source": [
    "test_sentence =[\"pope francis wearing sweater vestments he got for christmas\"\n",
    "    \n",
    "]"
   ]
  },
  {
   "cell_type": "code",
   "execution_count": 109,
   "id": "6f5a4517",
   "metadata": {},
   "outputs": [],
   "source": [
    "test_seq = tokenizer.texts_to_sequences(test_sentence)\n",
    "padded = pad_sequences(test_seq, maxlen=max_length, padding= padding_type, truncating=trunc_type)"
   ]
  },
  {
   "cell_type": "code",
   "execution_count": 110,
   "id": "338f0989",
   "metadata": {},
   "outputs": [
    {
     "data": {
      "text/plain": [
       "array([[0.88036454]], dtype=float32)"
      ]
     },
     "execution_count": 110,
     "metadata": {},
     "output_type": "execute_result"
    }
   ],
   "source": [
    "model.predict(padded)"
   ]
  },
  {
   "cell_type": "code",
   "execution_count": null,
   "id": "c36f4984",
   "metadata": {},
   "outputs": [],
   "source": []
  }
 ],
 "metadata": {
  "kernelspec": {
   "display_name": "Python 3 (ipykernel)",
   "language": "python",
   "name": "python3"
  },
  "language_info": {
   "codemirror_mode": {
    "name": "ipython",
    "version": 3
   },
   "file_extension": ".py",
   "mimetype": "text/x-python",
   "name": "python",
   "nbconvert_exporter": "python",
   "pygments_lexer": "ipython3",
   "version": "3.9.7"
  }
 },
 "nbformat": 4,
 "nbformat_minor": 5
}
